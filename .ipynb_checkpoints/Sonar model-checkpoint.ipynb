{
 "cells": [
  {
   "cell_type": "code",
   "execution_count": 13,
   "metadata": {},
   "outputs": [],
   "source": [
    "import tensorflow as tf\n",
    "import numpy as np\n",
    "import pandas as pd\n",
    "from sklearn.model_selection import train_test_split"
   ]
  },
  {
   "cell_type": "code",
   "execution_count": 14,
   "metadata": {},
   "outputs": [
    {
     "data": {
      "text/plain": [
       "0    Rock\n",
       "1    Rock\n",
       "2    Rock\n",
       "3    Rock\n",
       "4    Rock\n",
       "Name: 60, dtype: object"
      ]
     },
     "execution_count": 14,
     "metadata": {},
     "output_type": "execute_result"
    }
   ],
   "source": [
    "data = pd.read_csv(\"sonar.csv\", header = None)\n",
    "y=data.iloc[:,60]\n",
    "x = data.iloc[:,:60]\n",
    "x.head()\n",
    "y.head()"
   ]
  },
  {
   "cell_type": "code",
   "execution_count": 15,
   "metadata": {},
   "outputs": [],
   "source": [
    "x_train, x_test, y_train, y_test = train_test_split(x, y, test_size=0.2, random_state=None)\n"
   ]
  },
  {
   "cell_type": "code",
   "execution_count": 16,
   "metadata": {},
   "outputs": [],
   "source": [
    "\n",
    "from tensorflow.keras.utils import to_categorical\n",
    "from sklearn import preprocessing as pp"
   ]
  },
  {
   "cell_type": "code",
   "execution_count": 17,
   "metadata": {},
   "outputs": [],
   "source": [
    "enc = pp.LabelEncoder()\n",
    "y_train=enc.fit_transform(y_train)\n",
    "y_test = enc.fit_transform(y_test)"
   ]
  },
  {
   "cell_type": "code",
   "execution_count": 37,
   "metadata": {},
   "outputs": [],
   "source": [
    "\n",
    "model = tf.keras.models.Sequential([\n",
    "    tf.keras.layers.Dense(16,activation=\"relu\", input_shape=(60,)),\n",
    "    tf.keras.layers.Dense(16,activation=\"relu\"),\n",
    "    #tf.keras.layers.Dense(45,activation=\"relu\"),\n",
    "    #tf.keras.layers.Dense(40,activation=\"relu\"),\n",
    "    tf.keras.layers.Dense(1,activation=\"sigmoid\")\n",
    "    \n",
    "    \n",
    "])"
   ]
  },
  {
   "cell_type": "code",
   "execution_count": 43,
   "metadata": {},
   "outputs": [],
   "source": [
    "model.compile(loss='binary_crossentropy', optimizer='rmsprop', metrics=['accuracy'])"
   ]
  },
  {
   "cell_type": "code",
   "execution_count": 44,
   "metadata": {},
   "outputs": [
    {
     "name": "stdout",
     "output_type": "stream",
     "text": [
      "WARNING:tensorflow:Falling back from v2 loop because of error: Failed to find data adapter that can handle input: <class 'pandas.core.frame.DataFrame'>, <class 'NoneType'>\n",
      "Train on 166 samples, validate on 42 samples\n",
      "Epoch 1/10\n",
      "166/166 [==============================] - 1s 6ms/sample - loss: 0.6057 - accuracy: 0.7470 - val_loss: 0.6466 - val_accuracy: 0.5000\n",
      "Epoch 2/10\n",
      "166/166 [==============================] - 0s 217us/sample - loss: 0.5912 - accuracy: 0.7349 - val_loss: 0.6323 - val_accuracy: 0.5000\n",
      "Epoch 3/10\n",
      "166/166 [==============================] - 0s 223us/sample - loss: 0.5794 - accuracy: 0.7590 - val_loss: 0.6322 - val_accuracy: 0.5238\n",
      "Epoch 4/10\n",
      "166/166 [==============================] - 0s 223us/sample - loss: 0.5699 - accuracy: 0.7651 - val_loss: 0.6072 - val_accuracy: 0.6667\n",
      "Epoch 5/10\n",
      "166/166 [==============================] - 0s 193us/sample - loss: 0.5638 - accuracy: 0.8012 - val_loss: 0.6137 - val_accuracy: 0.5952\n",
      "Epoch 6/10\n",
      "166/166 [==============================] - 0s 247us/sample - loss: 0.5526 - accuracy: 0.8133 - val_loss: 0.6306 - val_accuracy: 0.5238\n",
      "Epoch 7/10\n",
      "166/166 [==============================] - 0s 229us/sample - loss: 0.5508 - accuracy: 0.7892 - val_loss: 0.6472 - val_accuracy: 0.5238\n",
      "Epoch 8/10\n",
      "166/166 [==============================] - 0s 211us/sample - loss: 0.5474 - accuracy: 0.7470 - val_loss: 0.6043 - val_accuracy: 0.5952\n",
      "Epoch 9/10\n",
      "166/166 [==============================] - 0s 211us/sample - loss: 0.5373 - accuracy: 0.8012 - val_loss: 0.6128 - val_accuracy: 0.5952\n",
      "Epoch 10/10\n",
      "166/166 [==============================] - 0s 235us/sample - loss: 0.5310 - accuracy: 0.8012 - val_loss: 0.5969 - val_accuracy: 0.6429\n"
     ]
    }
   ],
   "source": [
    "history = model.fit(x_train,y_train,epochs=10,validation_data = (x_test,y_test))"
   ]
  },
  {
   "cell_type": "code",
   "execution_count": 45,
   "metadata": {},
   "outputs": [],
   "source": [
    "import matplotlib.pyplot as plt"
   ]
  },
  {
   "cell_type": "code",
   "execution_count": 46,
   "metadata": {},
   "outputs": [
    {
     "data": {
      "image/png": "[encoded data removed]",
      "text/plain": [
       "<Figure size 432x288 with 1 Axes>"
      ]
     },
     "metadata": {
      "needs_background": "light"
     },
     "output_type": "display_data"
    }
   ],
   "source": [
    "loss = history.history['accuracy'] \n",
    "val_loss = history.history['accuracy']\n",
    "epochs = range(1, len(loss) + 1)\n",
    "plt.plot(epochs, loss, 'bo', label='Training loss') \n",
    "plt.plot(epochs, val_loss, 'b', label='Validation loss') \n",
    "plt.title('Training and validation loss') \n",
    "plt.xlabel('Epochs') \n",
    "plt.ylabel('Loss') \n",
    "plt.legend()\n",
    "plt.show()"
   ]
  },
  {
   "cell_type": "code",
   "execution_count": null,
   "metadata": {},
   "outputs": [],
   "source": []
  }
 ],
 "metadata": {
  "kernelspec": {
   "display_name": "Python 3",
   "language": "python",
   "name": "python3"
  },
  "language_info": {
   "codemirror_mode": {
    "name": "ipython",
    "version": 3
   },
   "file_extension": ".py",
   "mimetype": "text/x-python",
   "name": "python",
   "nbconvert_exporter": "python",
   "pygments_lexer": "ipython3",
   "version": "3.7.4"
  }
 },
 "nbformat": 4,
 "nbformat_minor": 2
}
